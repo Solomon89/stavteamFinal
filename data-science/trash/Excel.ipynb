{
 "cells": [
  {
   "cell_type": "code",
   "execution_count": 6,
   "metadata": {},
   "outputs": [
    {
     "name": "stdout",
     "output_type": "stream",
     "text": [
      "OK\n"
     ]
    }
   ],
   "source": [
    "import os\n",
    "import pandas as pd\n",
    "import numpy as np\n",
    "print(\"OK\")"
   ]
  },
  {
   "cell_type": "code",
   "execution_count": 17,
   "metadata": {},
   "outputs": [
    {
     "name": "stdout",
     "output_type": "stream",
     "text": [
      "1\n"
     ]
    }
   ],
   "source": [
    "# open dir\n",
    "path = r\"C:\\Users\\л\\Desktop\\gas\"\n",
    "path_excel = path + \"\\{}\"\n",
    "excel = os.listdir(path)\n",
    "# number of files on dir\n",
    "print(len(excel))"
   ]
  },
  {
   "cell_type": "code",
   "execution_count": 58,
   "metadata": {},
   "outputs": [
    {
     "name": "stdout",
     "output_type": "stream",
     "text": [
      "      Код      Высота  Потребление\n",
      "2       2  791.987332        7.718\n",
      "3       3  635.718959       29.196\n",
      "4       7  819.692635      134.089\n",
      "5       8  527.000000       16.079\n",
      "6      12  473.178580        9.697\n",
      "..    ...         ...          ...\n",
      "188  3007  122.058043       28.176\n",
      "189  3010  381.000000       10.416\n",
      "190  3012  230.549861       17.974\n",
      "191  3014  115.960702       57.586\n",
      "192  3015  199.508590       53.651\n",
      "\n",
      "[191 rows x 3 columns]\n"
     ]
    }
   ],
   "source": [
    "# edit files in dir and ...\n",
    "for name_excel in excel:\n",
    "    # read excel file and basic editing\n",
    "    file_excel = path_excel.format(name_excel)\n",
    "    df = pd.read_excel(file_excel, index_col=None, na_values=['NA'], usecols = \"A,F,G,H,K\", skiprows = 3, skipfooter = 1)\n",
    "    df = df.drop([0,1])\n",
    "    # add new column sum and drop other\n",
    "    df['Потребление'] = df[['Население','Unnamed: 6','Прочие потребители']].sum(axis=1)\n",
    "    df = df.drop(columns=['Население','Unnamed: 6','Прочие потребители'])\n",
    "    # column cast to integer\n",
    "    df['Код'] = pd.to_numeric(df['Код'], downcast='integer')\n",
    "    print(df)"
   ]
  }
 ],
 "metadata": {
  "kernelspec": {
   "display_name": "Python 3",
   "language": "python",
   "name": "python3"
  },
  "language_info": {
   "codemirror_mode": {
    "name": "ipython",
    "version": 3
   },
   "file_extension": ".py",
   "mimetype": "text/x-python",
   "name": "python",
   "nbconvert_exporter": "python",
   "pygments_lexer": "ipython3",
   "version": "3.8.3"
  }
 },
 "nbformat": 4,
 "nbformat_minor": 4
}
